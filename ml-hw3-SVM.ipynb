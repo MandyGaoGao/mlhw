{
 "cells": [
  {
   "cell_type": "markdown",
   "metadata": {},
   "source": [
    "## Q1"
   ]
  },
  {
   "cell_type": "code",
   "execution_count": null,
   "metadata": {},
   "outputs": [],
   "source": [
    "# (for windows os) download correct libsvm ver from https://www.lfd.uci.edu/~gohlke/pythonlibs/#libsvm\n",
    "! pip install libsvm‑3.23‑cp37‑cp37m‑win_amd64.whl"
   ]
  },
  {
   "cell_type": "code",
   "execution_count": 1,
   "metadata": {},
   "outputs": [],
   "source": [
    "import svm\n",
    "import pandas as pd\n",
    "import numpy as np\n",
    "from svmutil import * # window OS ，pip install .whl file for libsvm alr"
   ]
  },
  {
   "cell_type": "code",
   "execution_count": 2,
   "metadata": {},
   "outputs": [],
   "source": [
    "testf=r\".\\1\\promoters\\test.txt\"\n",
    "trainf=r\".\\1\\promoters\\training.txt\"\n",
    "testf=pd.read_csv(testf,header=None,sep=\" \")\n",
    "trainf=pd.read_csv(trainf,header=None,sep=\" \")\n",
    "test_label=list(testf[0])\n",
    "train_label=list(trainf[0])\n",
    "train=list(list(int(i[i.find(\":\")+1:]) for i in trainf.iloc[:,1:].values[j]) for j in range(len(trainf)))\n",
    "test=list(list(int(i[i.find(\":\")+1:]) for i in testf.iloc[:,1:].values[j]) for j in range(len(testf)))"
   ]
  },
  {
   "cell_type": "code",
   "execution_count": 29,
   "metadata": {},
   "outputs": [],
   "source": [
    "def svm(c,k):\n",
    "    svm_model.predict = lambda self, x: svm_predict([0], [x], self)[0][0]\n",
    "    prob = svm_problem(train_label,train)\n",
    "    param = svm_parameter()\n",
    "    param.kernel_type = LINEAR\n",
    "    #param.C = c\n",
    "    param.kernel_type=k\n",
    "    m=svm_train(prob, param)\n",
    "    #accuracy\n",
    "    co=0\n",
    "    for i in range(len(test)):\n",
    "        if m.predict(test[i])==test_label[i]:\n",
    "            co+=1\n",
    "    accu=co/len(test)\n",
    "    return accu"
   ]
  },
  {
   "cell_type": "code",
   "execution_count": 30,
   "metadata": {},
   "outputs": [
    {
     "name": "stdout",
     "output_type": "stream",
     "text": [
      "Accuracy = 100% (1/1) (classification)\n",
      "Accuracy = 0% (0/1) (classification)\n",
      "Accuracy = 100% (1/1) (classification)\n",
      "Accuracy = 100% (1/1) (classification)\n",
      "Accuracy = 0% (0/1) (classification)\n",
      "Accuracy = 0% (0/1) (classification)\n",
      "Accuracy = 100% (1/1) (classification)\n",
      "Accuracy = 0% (0/1) (classification)\n",
      "Accuracy = 100% (1/1) (classification)\n",
      "Accuracy = 0% (0/1) (classification)\n",
      "Accuracy = 100% (1/1) (classification)\n",
      "Accuracy = 0% (0/1) (classification)\n",
      "Accuracy = 100% (1/1) (classification)\n",
      "Accuracy = 100% (1/1) (classification)\n",
      "Accuracy = 0% (0/1) (classification)\n",
      "Accuracy = 100% (1/1) (classification)\n",
      "Accuracy = 0% (0/1) (classification)\n",
      "Accuracy = 100% (1/1) (classification)\n",
      "Accuracy = 100% (1/1) (classification)\n",
      "Accuracy = 0% (0/1) (classification)\n",
      "Accuracy = 100% (1/1) (classification)\n",
      "Accuracy = 100% (1/1) (classification)\n",
      "Accuracy = 0% (0/1) (classification)\n",
      "Accuracy = 0% (0/1) (classification)\n",
      "Accuracy = 100% (1/1) (classification)\n",
      "Accuracy = 100% (1/1) (classification)\n",
      "Accuracy = 0% (0/1) (classification)\n",
      "Accuracy = 0% (0/1) (classification)\n",
      "Accuracy = 100% (1/1) (classification)\n",
      "Accuracy = 100% (1/1) (classification)\n",
      "Accuracy = 100% (1/1) (classification)\n",
      "Accuracy = 100% (1/1) (classification)\n",
      "Accuracy = 100% (1/1) (classification)\n",
      "Accuracy = 0% (0/1) (classification)\n",
      "Accuracy = 100% (1/1) (classification)\n",
      "Accuracy = 100% (1/1) (classification)\n",
      "Accuracy = 0% (0/1) (classification)\n",
      "Accuracy = 0% (0/1) (classification)\n",
      "Accuracy = 100% (1/1) (classification)\n",
      "Accuracy = 0% (0/1) (classification)\n",
      "Accuracy = 100% (1/1) (classification)\n",
      "Accuracy = 0% (0/1) (classification)\n",
      "Accuracy = 100% (1/1) (classification)\n",
      "Accuracy = 0% (0/1) (classification)\n",
      "Accuracy = 100% (1/1) (classification)\n",
      "Accuracy = 100% (1/1) (classification)\n",
      "Accuracy = 0% (0/1) (classification)\n",
      "Accuracy = 100% (1/1) (classification)\n",
      "Accuracy = 0% (0/1) (classification)\n",
      "Accuracy = 100% (1/1) (classification)\n",
      "Accuracy = 0% (0/1) (classification)\n",
      "Accuracy = 0% (0/1) (classification)\n",
      "Accuracy = 0% (0/1) (classification)\n",
      "Accuracy = 100% (1/1) (classification)\n",
      "Accuracy = 0% (0/1) (classification)\n",
      "Accuracy = 0% (0/1) (classification)\n",
      "Accuracy = 100% (1/1) (classification)\n",
      "Accuracy = 100% (1/1) (classification)\n",
      "Accuracy = 0% (0/1) (classification)\n",
      "Accuracy = 0% (0/1) (classification)\n",
      "Accuracy = 100% (1/1) (classification)\n",
      "Accuracy = 100% (1/1) (classification)\n",
      "Accuracy = 100% (1/1) (classification)\n",
      "Accuracy = 0% (0/1) (classification)\n",
      "Accuracy = 100% (1/1) (classification)\n",
      "Accuracy = 0% (0/1) (classification)\n",
      "Accuracy = 100% (1/1) (classification)\n",
      "Accuracy = 100% (1/1) (classification)\n",
      "Accuracy = 0% (0/1) (classification)\n",
      "Accuracy = 0% (0/1) (classification)\n",
      "Accuracy = 100% (1/1) (classification)\n",
      "Accuracy = 0% (0/1) (classification)\n",
      "Accuracy = 0% (0/1) (classification)\n",
      "Accuracy = 0% (0/1) (classification)\n",
      "Accuracy = 100% (1/1) (classification)\n",
      "Accuracy = 0% (0/1) (classification)\n",
      "Accuracy = 100% (1/1) (classification)\n",
      "Accuracy = 100% (1/1) (classification)\n",
      "Accuracy = 0% (0/1) (classification)\n",
      "Accuracy = 100% (1/1) (classification)\n",
      "Accuracy = 0% (0/1) (classification)\n",
      "Accuracy = 100% (1/1) (classification)\n",
      "Accuracy = 0% (0/1) (classification)\n",
      "Accuracy = 0% (0/1) (classification)\n",
      "Accuracy = 0% (0/1) (classification)\n",
      "Accuracy = 100% (1/1) (classification)\n",
      "Accuracy = 0% (0/1) (classification)\n",
      "Accuracy = 0% (0/1) (classification)\n",
      "Accuracy = 100% (1/1) (classification)\n",
      "Accuracy = 0% (0/1) (classification)\n",
      "Accuracy = 0% (0/1) (classification)\n",
      "Accuracy = 0% (0/1) (classification)\n",
      "Accuracy = 100% (1/1) (classification)\n",
      "Accuracy = 100% (1/1) (classification)\n",
      "Accuracy = 100% (1/1) (classification)\n",
      "Accuracy = 100% (1/1) (classification)\n",
      "Accuracy = 0% (0/1) (classification)\n",
      "Accuracy = 0% (0/1) (classification)\n",
      "Accuracy = 0% (0/1) (classification)\n",
      "Accuracy = 0% (0/1) (classification)\n",
      "Accuracy = 0% (0/1) (classification)\n",
      "Accuracy = 0% (0/1) (classification)\n",
      "Accuracy = 0% (0/1) (classification)\n",
      "Accuracy = 0% (0/1) (classification)\n",
      "Accuracy = 0% (0/1) (classification)\n",
      "Accuracy = 0% (0/1) (classification)\n",
      "Accuracy = 0% (0/1) (classification)\n",
      "Accuracy = 0% (0/1) (classification)\n",
      "Accuracy = 0% (0/1) (classification)\n",
      "Accuracy = 0% (0/1) (classification)\n",
      "Accuracy = 0% (0/1) (classification)\n",
      "Accuracy = 0% (0/1) (classification)\n",
      "Accuracy = 0% (0/1) (classification)\n",
      "Accuracy = 0% (0/1) (classification)\n",
      "Accuracy = 0% (0/1) (classification)\n",
      "Accuracy = 0% (0/1) (classification)\n",
      "Accuracy = 0% (0/1) (classification)\n",
      "Accuracy = 0% (0/1) (classification)\n",
      "Accuracy = 0% (0/1) (classification)\n",
      "Accuracy = 0% (0/1) (classification)\n",
      "Accuracy = 0% (0/1) (classification)\n",
      "Accuracy = 0% (0/1) (classification)\n",
      "Accuracy = 0% (0/1) (classification)\n",
      "Accuracy = 0% (0/1) (classification)\n",
      "Accuracy = 0% (0/1) (classification)\n",
      "Accuracy = 0% (0/1) (classification)\n",
      "Accuracy = 0% (0/1) (classification)\n",
      "Accuracy = 0% (0/1) (classification)\n"
     ]
    },
    {
     "data": {
      "text/plain": [
       "[0.84375, 0.8125, 0.90625, 0.4375]"
      ]
     },
     "execution_count": 30,
     "metadata": {},
     "output_type": "execute_result"
    }
   ],
   "source": [
    "list(svm(5,i) for i in range(0,4))# scroll to last line of the output"
   ]
  },
  {
   "cell_type": "markdown",
   "metadata": {},
   "source": [
    "##### kernel = 2, accuracy =0.90625 is the best\n",
    "## Q2 Q3  see attached pdf Q2"
   ]
  },
  {
   "cell_type": "markdown",
   "metadata": {},
   "source": [
    "## Q4 .1"
   ]
  },
  {
   "cell_type": "code",
   "execution_count": 98,
   "metadata": {},
   "outputs": [
    {
     "name": "stdout",
     "output_type": "stream",
     "text": [
      "0.00020914300000185904\n"
     ]
    }
   ],
   "source": [
    "import timeit\n",
    "code_to_test = \"\"\"\n",
    "import numpy as np\n",
    "temp = np.random.rand(1000).astype(np.float64)\n",
    "t=0\n",
    "for i in temp:\n",
    "    t*=i \n",
    "\"\"\"\n",
    "elapsed_time = timeit.timeit(code_to_test, number=100)/100\n",
    "print(elapsed_time)"
   ]
  },
  {
   "cell_type": "code",
   "execution_count": 101,
   "metadata": {},
   "outputs": [
    {
     "name": "stdout",
     "output_type": "stream",
     "text": [
      "0.00018061900000247987\n"
     ]
    }
   ],
   "source": [
    "code_to_test = \"\"\"\n",
    "import numpy as np\n",
    "temp = np.log(np.random.rand(1000)).astype(np.float64)\n",
    "t=0\n",
    "for i in temp:\n",
    "    t+=i \n",
    "\"\"\"\n",
    "elapsed_time = timeit.timeit(code_to_test, number=100)/100\n",
    "print(elapsed_time)"
   ]
  },
  {
   "cell_type": "markdown",
   "metadata": {},
   "source": [
    "#### addition compared to multiplication is computationally cheaper.As above,test2 takes longer time than test2. stackoverflow problem occurs for multiplication, hence higher precision,hence memory and computation cost is required."
   ]
  },
  {
   "cell_type": "markdown",
   "metadata": {},
   "source": [
    "## 2."
   ]
  },
  {
   "cell_type": "code",
   "execution_count": 103,
   "metadata": {},
   "outputs": [],
   "source": [
    "import pandas as pd\n",
    "testf=r\".\\4\\diabetes_train.csv\"\n",
    "testf=pd.read_csv(testf,header=None)"
   ]
  },
  {
   "cell_type": "code",
   "execution_count": 104,
   "metadata": {
    "scrolled": true
   },
   "outputs": [
    {
     "data": {
      "text/html": [
       "<div>\n",
       "<style scoped>\n",
       "    .dataframe tbody tr th:only-of-type {\n",
       "        vertical-align: middle;\n",
       "    }\n",
       "\n",
       "    .dataframe tbody tr th {\n",
       "        vertical-align: top;\n",
       "    }\n",
       "\n",
       "    .dataframe thead th {\n",
       "        text-align: right;\n",
       "    }\n",
       "</style>\n",
       "<table border=\"1\" class=\"dataframe\">\n",
       "  <thead>\n",
       "    <tr style=\"text-align: right;\">\n",
       "      <th></th>\n",
       "      <th>0</th>\n",
       "      <th>1</th>\n",
       "      <th>2</th>\n",
       "      <th>3</th>\n",
       "      <th>4</th>\n",
       "      <th>5</th>\n",
       "      <th>6</th>\n",
       "      <th>7</th>\n",
       "      <th>8</th>\n",
       "      <th>9</th>\n",
       "      <th>...</th>\n",
       "      <th>11</th>\n",
       "      <th>12</th>\n",
       "      <th>13</th>\n",
       "      <th>14</th>\n",
       "      <th>15</th>\n",
       "      <th>16</th>\n",
       "      <th>17</th>\n",
       "      <th>18</th>\n",
       "      <th>19</th>\n",
       "      <th>20</th>\n",
       "    </tr>\n",
       "  </thead>\n",
       "  <tbody>\n",
       "    <tr>\n",
       "      <td>0</td>\n",
       "      <td>-1.0</td>\n",
       "      <td>0.54</td>\n",
       "      <td>0.68</td>\n",
       "      <td>0.65</td>\n",
       "      <td>1.0</td>\n",
       "      <td>0.0</td>\n",
       "      <td>0.0</td>\n",
       "      <td>0.0</td>\n",
       "      <td>1.0</td>\n",
       "      <td>0.0</td>\n",
       "      <td>...</td>\n",
       "      <td>0.0</td>\n",
       "      <td>0.0</td>\n",
       "      <td>0.0</td>\n",
       "      <td>0.0</td>\n",
       "      <td>1.0</td>\n",
       "      <td>0.0</td>\n",
       "      <td>0.0</td>\n",
       "      <td>0.0</td>\n",
       "      <td>1.0</td>\n",
       "      <td>0.0</td>\n",
       "    </tr>\n",
       "    <tr>\n",
       "      <td>1</td>\n",
       "      <td>-1.0</td>\n",
       "      <td>0.74</td>\n",
       "      <td>1.59</td>\n",
       "      <td>1.18</td>\n",
       "      <td>0.0</td>\n",
       "      <td>1.0</td>\n",
       "      <td>0.0</td>\n",
       "      <td>0.0</td>\n",
       "      <td>0.0</td>\n",
       "      <td>0.0</td>\n",
       "      <td>...</td>\n",
       "      <td>0.0</td>\n",
       "      <td>0.0</td>\n",
       "      <td>0.0</td>\n",
       "      <td>0.0</td>\n",
       "      <td>1.0</td>\n",
       "      <td>0.0</td>\n",
       "      <td>0.0</td>\n",
       "      <td>0.0</td>\n",
       "      <td>0.0</td>\n",
       "      <td>1.0</td>\n",
       "    </tr>\n",
       "  </tbody>\n",
       "</table>\n",
       "<p>2 rows × 21 columns</p>\n",
       "</div>"
      ],
      "text/plain": [
       "    0     1     2     3    4    5    6    7    8    9   ...   11   12   13  \\\n",
       "0 -1.0  0.54  0.68  0.65  1.0  0.0  0.0  0.0  1.0  0.0  ...  0.0  0.0  0.0   \n",
       "1 -1.0  0.74  1.59  1.18  0.0  1.0  0.0  0.0  0.0  0.0  ...  0.0  0.0  0.0   \n",
       "\n",
       "    14   15   16   17   18   19   20  \n",
       "0  0.0  1.0  0.0  0.0  0.0  1.0  0.0  \n",
       "1  0.0  1.0  0.0  0.0  0.0  0.0  1.0  \n",
       "\n",
       "[2 rows x 21 columns]"
      ]
     },
     "execution_count": 104,
     "metadata": {},
     "output_type": "execute_result"
    }
   ],
   "source": [
    "testf.head(2) #1 label 20 attributes"
   ]
  },
  {
   "cell_type": "code",
   "execution_count": 131,
   "metadata": {},
   "outputs": [],
   "source": [
    "x, y = testf.drop(columns=0), testf.loc[:, 0][:,np.newaxis]\n",
    "x['bias'] = np.ones((len(x), 1))"
   ]
  },
  {
   "cell_type": "code",
   "execution_count": 137,
   "metadata": {},
   "outputs": [
    {
     "data": {
      "text/plain": [
       "(3000, 1)"
      ]
     },
     "execution_count": 137,
     "metadata": {},
     "output_type": "execute_result"
    }
   ],
   "source": [
    "y.shape"
   ]
  },
  {
   "cell_type": "code",
   "execution_count": 146,
   "metadata": {},
   "outputs": [],
   "source": [
    "def backward(theta, x, y):\n",
    "    # x (dim,)\n",
    "    # y scalar\n",
    "    gradient = - (y * x) / (1 + np.exp(y * (x.dot(theta) ) ) ) \n",
    "    gradient = gradient[:,np.newaxis]\n",
    "    return gradient\n",
    "\n",
    "def loss_func(x, y, theta, iteration):\n",
    "    # x (n, dim)\n",
    "    # y (n, 1)\n",
    "    loss = np.sum(np.log( 1 + np.exp( np.multiply(-y, (x.values.dot(theta))))) )\n",
    "    acc = np.sum(np.sign(x.values.dot(theta)) == y)/ len(y)\n",
    "    print(\"iter \"+str(iteration)+\" : \\n\"+\"loss: \"+str(loss)+\" accuracy: \"+str(acc))\n",
    "    return loss, acc\n"
   ]
  },
  {
   "cell_type": "code",
   "execution_count": 147,
   "metadata": {},
   "outputs": [
    {
     "data": {
      "application/vnd.jupyter.widget-view+json": {
       "model_id": "a5e56826f0714192bbc04e861e9a52f0",
       "version_major": 2,
       "version_minor": 0
      },
      "text/plain": [
       "HBox(children=(IntProgress(value=0, max=10000), HTML(value='')))"
      ]
     },
     "metadata": {},
     "output_type": "display_data"
    },
    {
     "name": "stdout",
     "output_type": "stream",
     "text": [
      "iter 0 : \n",
      "loss: 3299.2832379479732 accuracy: 0.457\n",
      "iter 100 : \n",
      "loss: 1273.486695241213 accuracy: 0.8356666666666667\n",
      "iter 200 : \n",
      "loss: 1041.4830276271975 accuracy: 0.855\n",
      "iter 300 : \n",
      "loss: 902.1899446001817 accuracy: 0.8783333333333333\n",
      "iter 400 : \n",
      "loss: 743.2904734778542 accuracy: 0.9146666666666666\n",
      "iter 500 : \n",
      "loss: 664.2915939407862 accuracy: 0.925\n",
      "iter 600 : \n",
      "loss: 601.8703798821441 accuracy: 0.9323333333333333\n",
      "iter 700 : \n",
      "loss: 570.5085992127886 accuracy: 0.9363333333333334\n",
      "iter 800 : \n",
      "loss: 549.4304462848595 accuracy: 0.917\n",
      "iter 900 : \n",
      "loss: 500.4724256214282 accuracy: 0.959\n",
      "iter 1000 : \n",
      "loss: 498.5347169224238 accuracy: 0.9253333333333333\n",
      "iter 1100 : \n",
      "loss: 475.1913998024969 accuracy: 0.931\n",
      "iter 1200 : \n",
      "loss: 441.2728388931909 accuracy: 0.9553333333333334\n",
      "iter 1300 : \n",
      "loss: 427.97924727009814 accuracy: 0.9556666666666667\n",
      "iter 1400 : \n",
      "loss: 418.480504132789 accuracy: 0.9656666666666667\n",
      "iter 1500 : \n",
      "loss: 401.6391847805535 accuracy: 0.9536666666666667\n",
      "iter 1600 : \n",
      "loss: 397.381418750894 accuracy: 0.9693333333333334\n",
      "iter 1700 : \n",
      "loss: 375.06698859019144 accuracy: 0.955\n",
      "iter 1800 : \n",
      "loss: 364.15623344801946 accuracy: 0.9763333333333334\n",
      "iter 1900 : \n",
      "loss: 355.97388932668434 accuracy: 0.9636666666666667\n",
      "iter 2000 : \n",
      "loss: 358.910936444816 accuracy: 0.9503333333333334\n",
      "iter 2100 : \n",
      "loss: 345.4394338647612 accuracy: 0.9603333333333334\n",
      "iter 2200 : \n",
      "loss: 348.3635915960216 accuracy: 0.98\n",
      "iter 2300 : \n",
      "loss: 324.19247028365373 accuracy: 0.98\n",
      "iter 2400 : \n",
      "loss: 321.25346804201854 accuracy: 0.97\n",
      "iter 2500 : \n",
      "loss: 329.755997654209 accuracy: 0.9576666666666667\n",
      "iter 2600 : \n",
      "loss: 322.56788586849586 accuracy: 0.9626666666666667\n",
      "iter 2700 : \n",
      "loss: 307.4574026846937 accuracy: 0.978\n",
      "iter 2800 : \n",
      "loss: 314.19624559300337 accuracy: 0.9613333333333334\n",
      "iter 2900 : \n",
      "loss: 306.8118337235586 accuracy: 0.988\n",
      "iter 3000 : \n",
      "loss: 305.9708420333469 accuracy: 0.9613333333333334\n",
      "iter 3100 : \n",
      "loss: 307.81920968860743 accuracy: 0.9593333333333334\n",
      "iter 3200 : \n",
      "loss: 292.350342454183 accuracy: 0.9876666666666667\n",
      "iter 3300 : \n",
      "loss: 285.13826411461713 accuracy: 0.9863333333333333\n",
      "iter 3400 : \n",
      "loss: 277.52069025671665 accuracy: 0.985\n",
      "iter 3500 : \n",
      "loss: 278.39073471544526 accuracy: 0.9883333333333333\n",
      "iter 3600 : \n",
      "loss: 276.02287536049846 accuracy: 0.9723333333333334\n",
      "iter 3700 : \n",
      "loss: 267.8361079796928 accuracy: 0.99\n",
      "iter 3800 : \n",
      "loss: 261.5468689089109 accuracy: 0.9856666666666667\n",
      "iter 3900 : \n",
      "loss: 269.7592264097545 accuracy: 0.9916666666666667\n",
      "iter 4000 : \n",
      "loss: 266.73803912971283 accuracy: 0.9926666666666667\n",
      "iter 4100 : \n",
      "loss: 252.71309153718033 accuracy: 0.9886666666666667\n",
      "iter 4200 : \n",
      "loss: 252.51218773016188 accuracy: 0.9823333333333333\n",
      "iter 4300 : \n",
      "loss: 257.06462406093914 accuracy: 0.9726666666666667\n",
      "iter 4400 : \n",
      "loss: 246.92425239833324 accuracy: 0.9856666666666667\n",
      "iter 4500 : \n",
      "loss: 247.62946406454168 accuracy: 0.9793333333333333\n",
      "iter 4600 : \n",
      "loss: 250.32246439108107 accuracy: 0.9736666666666667\n",
      "iter 4700 : \n",
      "loss: 256.6358286434388 accuracy: 0.9673333333333334\n",
      "iter 4800 : \n",
      "loss: 240.7498427680839 accuracy: 0.99\n",
      "iter 4900 : \n",
      "loss: 238.6137090257865 accuracy: 0.9883333333333333\n",
      "iter 5000 : \n",
      "loss: 240.5647542058103 accuracy: 0.9896666666666667\n",
      "iter 5100 : \n",
      "loss: 253.45088398394464 accuracy: 0.9683333333333334\n",
      "iter 5200 : \n",
      "loss: 236.72040946003915 accuracy: 0.987\n",
      "iter 5300 : \n",
      "loss: 242.97248116123336 accuracy: 0.9736666666666667\n",
      "iter 5400 : \n",
      "loss: 238.8860757026099 accuracy: 0.991\n",
      "iter 5500 : \n",
      "loss: 249.632703598272 accuracy: 0.9673333333333334\n",
      "iter 5600 : \n",
      "loss: 239.94428605663003 accuracy: 0.973\n",
      "iter 5700 : \n",
      "loss: 229.36054030986168 accuracy: 0.9823333333333333\n",
      "iter 5800 : \n",
      "loss: 226.945223792881 accuracy: 0.9916666666666667\n",
      "iter 5900 : \n",
      "loss: 222.60064537489478 accuracy: 0.986\n",
      "iter 6000 : \n",
      "loss: 225.20715776116919 accuracy: 0.9906666666666667\n",
      "iter 6100 : \n",
      "loss: 220.39667478663486 accuracy: 0.9863333333333333\n",
      "iter 6200 : \n",
      "loss: 221.99605585058026 accuracy: 0.9826666666666667\n",
      "iter 6300 : \n",
      "loss: 221.62216520844188 accuracy: 0.9913333333333333\n",
      "iter 6400 : \n",
      "loss: 219.04126217392923 accuracy: 0.9823333333333333\n",
      "iter 6500 : \n",
      "loss: 219.02132659448813 accuracy: 0.9823333333333333\n",
      "iter 6600 : \n",
      "loss: 212.83710732818844 accuracy: 0.989\n",
      "iter 6700 : \n",
      "loss: 217.62207241756954 accuracy: 0.9813333333333333\n",
      "iter 6800 : \n",
      "loss: 222.2811309892149 accuracy: 0.991\n",
      "iter 6900 : \n",
      "loss: 209.8530340008842 accuracy: 0.9906666666666667\n",
      "iter 7000 : \n",
      "loss: 209.77584222803193 accuracy: 0.987\n",
      "iter 7100 : \n",
      "loss: 216.7641245689657 accuracy: 0.9793333333333333\n",
      "iter 7200 : \n",
      "loss: 212.20753444713705 accuracy: 0.9816666666666667\n",
      "iter 7300 : \n",
      "loss: 208.41914727498644 accuracy: 0.9856666666666667\n",
      "iter 7400 : \n",
      "loss: 207.57200790502856 accuracy: 0.986\n",
      "iter 7500 : \n",
      "loss: 206.0732157076734 accuracy: 0.9906666666666667\n",
      "iter 7600 : \n",
      "loss: 202.63951597895516 accuracy: 0.9883333333333333\n",
      "iter 7700 : \n",
      "loss: 219.03502457124415 accuracy: 0.9746666666666667\n",
      "iter 7800 : \n",
      "loss: 199.53356725894088 accuracy: 0.9886666666666667\n",
      "iter 7900 : \n",
      "loss: 200.47276795592356 accuracy: 0.987\n",
      "iter 8000 : \n",
      "loss: 209.1072339379158 accuracy: 0.9886666666666667\n",
      "iter 8100 : \n",
      "loss: 197.15315360369243 accuracy: 0.9876666666666667\n",
      "iter 8200 : \n",
      "loss: 213.83579518619706 accuracy: 0.99\n",
      "iter 8300 : \n",
      "loss: 197.5521460408122 accuracy: 0.9893333333333333\n",
      "iter 8400 : \n",
      "loss: 199.79875063815652 accuracy: 0.9896666666666667\n",
      "iter 8500 : \n",
      "loss: 197.3818878232795 accuracy: 0.9846666666666667\n",
      "iter 8600 : \n",
      "loss: 194.736292816515 accuracy: 0.9873333333333333\n",
      "iter 8700 : \n",
      "loss: 199.00028252323227 accuracy: 0.9886666666666667\n",
      "iter 8800 : \n",
      "loss: 197.95244416041146 accuracy: 0.983\n",
      "iter 8900 : \n",
      "loss: 192.712651574627 accuracy: 0.9866666666666667\n",
      "iter 9000 : \n",
      "loss: 189.5315106557487 accuracy: 0.9883333333333333\n",
      "iter 9100 : \n",
      "loss: 188.17425419786673 accuracy: 0.989\n",
      "iter 9200 : \n",
      "loss: 191.43633802932965 accuracy: 0.9903333333333333\n",
      "iter 9300 : \n",
      "loss: 206.86130896446613 accuracy: 0.9753333333333334\n",
      "iter 9400 : \n",
      "loss: 186.91232750936362 accuracy: 0.991\n",
      "iter 9500 : \n",
      "loss: 186.28403653563464 accuracy: 0.986\n",
      "iter 9600 : \n",
      "loss: 198.71894332518207 accuracy: 0.9776666666666667\n",
      "iter 9700 : \n",
      "loss: 189.70283785143658 accuracy: 0.992\n",
      "iter 9800 : \n",
      "loss: 182.03328518992606 accuracy: 0.9913333333333333\n",
      "iter 9900 : \n",
      "loss: 187.7156041248447 accuracy: 0.9843333333333333\n",
      "\n"
     ]
    }
   ],
   "source": [
    "losses = []\n",
    "accs = []\n",
    "lr = 0.1\n",
    "theta = np.random.normal(0, 1, (x.shape[1], 1) )\n",
    "iterations = 10000\n",
    "idxs = np.random.choice(len(x), size=iterations)\n",
    "weights = {}\n",
    "\n",
    "for iteration, i in enumerate(tqdm_notebook(idxs, file=sys.stdout)):\n",
    "    xi, yi = x.loc[i,:], y[i]\n",
    "    gradient = backward(theta, xi, yi)\n",
    "    theta -= lr * gradient\n",
    "    if iteration % 100 == 0:\n",
    "        loss, acc = loss_func(x, y, theta, iteration)\n",
    "        weights[iteration] = theta\n",
    "        losses.append(loss)\n",
    "        accs.append(acc)"
   ]
  },
  {
   "cell_type": "code",
   "execution_count": 148,
   "metadata": {},
   "outputs": [
    {
     "data": {
      "text/plain": [
       "Text(0.5, 0, 'every 100 iterations')"
      ]
     },
     "execution_count": 148,
     "metadata": {},
     "output_type": "execute_result"
    },
    {
     "data": {
      "image/png": "[encoded data removed]",
      "text/plain": [
       "<Figure size 432x288 with 1 Axes>"
      ]
     },
     "metadata": {
      "needs_background": "light"
     },
     "output_type": "display_data"
    }
   ],
   "source": [
    "\n",
    "%matplotlib inline\n",
    "from matplotlib import pyplot as plt\n",
    "plt.plot(range(1, 101), -1*np.array(losses))\n",
    "plt.ylabel('loglikelihood ')\n",
    "plt.xlabel('every 100 iterations')"
   ]
  },
  {
   "cell_type": "code",
   "execution_count": 149,
   "metadata": {},
   "outputs": [
    {
     "data": {
      "text/plain": [
       "Text(0.5, 0, 'every 100 iterations')"
      ]
     },
     "execution_count": 149,
     "metadata": {},
     "output_type": "execute_result"
    },
    {
     "data": {
      "image/png": "[encoded data removed]",
      "text/plain": [
       "<Figure size 432x288 with 1 Axes>"
      ]
     },
     "metadata": {
      "needs_background": "light"
     },
     "output_type": "display_data"
    }
   ],
   "source": [
    "plt.plot(range(1, 101), accs)\n",
    "plt.ylabel('accuracy')\n",
    "plt.xlabel('every 100 iterations')"
   ]
  },
  {
   "cell_type": "code",
   "execution_count": 150,
   "metadata": {},
   "outputs": [],
   "source": [
    "import pickle\n",
    "with open('weights.pk', 'wb') as f: pickle.dump(weights, f)"
   ]
  }
 ],
 "metadata": {
  "kernelspec": {
   "display_name": "Python 3",
   "language": "python",
   "name": "python3"
  },
  "language_info": {
   "codemirror_mode": {
    "name": "ipython",
    "version": 3
   },
   "file_extension": ".py",
   "mimetype": "text/x-python",
   "name": "python",
   "nbconvert_exporter": "python",
   "pygments_lexer": "ipython3",
   "version": "3.7.4"
  }
 },
 "nbformat": 4,
 "nbformat_minor": 2
}

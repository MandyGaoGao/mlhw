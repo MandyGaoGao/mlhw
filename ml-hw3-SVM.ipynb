{
 "cells": [
  {
   "cell_type": "markdown",
   "metadata": {},
   "source": [
    "## Q1"
   ]
  },
  {
   "cell_type": "code",
   "execution_count": null,
   "metadata": {},
   "outputs": [],
   "source": [
    "# (for windows os) download correct libsvm ver from https://www.lfd.uci.edu/~gohlke/pythonlibs/#libsvm\n",
    "! pip install libsvm‑3.23‑cp37‑cp37m‑win_amd64.whl"
   ]
  },
  {
   "cell_type": "code",
   "execution_count": 1,
   "metadata": {},
   "outputs": [],
   "source": [
    "import svm\n",
    "import pandas as pd\n",
    "import numpy as np\n",
    "from svmutil import * # window OS ，pip install .whl file for libsvm alr"
   ]
  },
  {
   "cell_type": "code",
   "execution_count": 2,
   "metadata": {},
   "outputs": [],
   "source": [
    "testf=r\".\\1\\promoters\\test.txt\"\n",
    "trainf=r\".\\1\\promoters\\training.txt\"\n",
    "testf=pd.read_csv(testf,header=None,sep=\" \")\n",
    "trainf=pd.read_csv(trainf,header=None,sep=\" \")\n",
    "test_label=list(testf[0])\n",
    "train_label=list(trainf[0])\n",
    "train=list(list(int(i[i.find(\":\")+1:]) for i in trainf.iloc[:,1:].values[j]) for j in range(len(trainf)))\n",
    "test=list(list(int(i[i.find(\":\")+1:]) for i in testf.iloc[:,1:].values[j]) for j in range(len(testf)))"
   ]
  },
  {
   "cell_type": "code",
   "execution_count": 29,
   "metadata": {},
   "outputs": [],
   "source": [
    "def svm(c,k):\n",
    "    svm_model.predict = lambda self, x: svm_predict([0], [x], self)[0][0]\n",
    "    prob = svm_problem(train_label,train)\n",
    "    param = svm_parameter()\n",
    "    param.kernel_type = LINEAR\n",
    "    #param.C = c\n",
    "    param.kernel_type=k\n",
    "    m=svm_train(prob, param)\n",
    "    #accuracy\n",
    "    co=0\n",
    "    for i in range(len(test)):\n",
    "        if m.predict(test[i])==test_label[i]:\n",
    "            co+=1\n",
    "    accu=co/len(test)\n",
    "    return accu"
   ]
  },
  {
   "cell_type": "code",
   "execution_count": 30,
   "metadata": {},
   "outputs": [
    {
     "name": "stdout",
     "output_type": "stream",
     "text": [
      "Accuracy = 100% (1/1) (classification)\n",
      "Accuracy = 0% (0/1) (classification)\n",
      "Accuracy = 100% (1/1) (classification)\n",
      "Accuracy = 100% (1/1) (classification)\n",
      "Accuracy = 0% (0/1) (classification)\n",
      "Accuracy = 0% (0/1) (classification)\n",
      "Accuracy = 100% (1/1) (classification)\n",
      "Accuracy = 0% (0/1) (classification)\n",
      "Accuracy = 100% (1/1) (classification)\n",
      "Accuracy = 0% (0/1) (classification)\n",
      "Accuracy = 100% (1/1) (classification)\n",
      "Accuracy = 0% (0/1) (classification)\n",
      "Accuracy = 100% (1/1) (classification)\n",
      "Accuracy = 100% (1/1) (classification)\n",
      "Accuracy = 0% (0/1) (classification)\n",
      "Accuracy = 100% (1/1) (classification)\n",
      "Accuracy = 0% (0/1) (classification)\n",
      "Accuracy = 100% (1/1) (classification)\n",
      "Accuracy = 100% (1/1) (classification)\n",
      "Accuracy = 0% (0/1) (classification)\n",
      "Accuracy = 100% (1/1) (classification)\n",
      "Accuracy = 100% (1/1) (classification)\n",
      "Accuracy = 0% (0/1) (classification)\n",
      "Accuracy = 0% (0/1) (classification)\n",
      "Accuracy = 100% (1/1) (classification)\n",
      "Accuracy = 100% (1/1) (classification)\n",
      "Accuracy = 0% (0/1) (classification)\n",
      "Accuracy = 0% (0/1) (classification)\n",
      "Accuracy = 100% (1/1) (classification)\n",
      "Accuracy = 100% (1/1) (classification)\n",
      "Accuracy = 100% (1/1) (classification)\n",
      "Accuracy = 100% (1/1) (classification)\n",
      "Accuracy = 100% (1/1) (classification)\n",
      "Accuracy = 0% (0/1) (classification)\n",
      "Accuracy = 100% (1/1) (classification)\n",
      "Accuracy = 100% (1/1) (classification)\n",
      "Accuracy = 0% (0/1) (classification)\n",
      "Accuracy = 0% (0/1) (classification)\n",
      "Accuracy = 100% (1/1) (classification)\n",
      "Accuracy = 0% (0/1) (classification)\n",
      "Accuracy = 100% (1/1) (classification)\n",
      "Accuracy = 0% (0/1) (classification)\n",
      "Accuracy = 100% (1/1) (classification)\n",
      "Accuracy = 0% (0/1) (classification)\n",
      "Accuracy = 100% (1/1) (classification)\n",
      "Accuracy = 100% (1/1) (classification)\n",
      "Accuracy = 0% (0/1) (classification)\n",
      "Accuracy = 100% (1/1) (classification)\n",
      "Accuracy = 0% (0/1) (classification)\n",
      "Accuracy = 100% (1/1) (classification)\n",
      "Accuracy = 0% (0/1) (classification)\n",
      "Accuracy = 0% (0/1) (classification)\n",
      "Accuracy = 0% (0/1) (classification)\n",
      "Accuracy = 100% (1/1) (classification)\n",
      "Accuracy = 0% (0/1) (classification)\n",
      "Accuracy = 0% (0/1) (classification)\n",
      "Accuracy = 100% (1/1) (classification)\n",
      "Accuracy = 100% (1/1) (classification)\n",
      "Accuracy = 0% (0/1) (classification)\n",
      "Accuracy = 0% (0/1) (classification)\n",
      "Accuracy = 100% (1/1) (classification)\n",
      "Accuracy = 100% (1/1) (classification)\n",
      "Accuracy = 100% (1/1) (classification)\n",
      "Accuracy = 0% (0/1) (classification)\n",
      "Accuracy = 100% (1/1) (classification)\n",
      "Accuracy = 0% (0/1) (classification)\n",
      "Accuracy = 100% (1/1) (classification)\n",
      "Accuracy = 100% (1/1) (classification)\n",
      "Accuracy = 0% (0/1) (classification)\n",
      "Accuracy = 0% (0/1) (classification)\n",
      "Accuracy = 100% (1/1) (classification)\n",
      "Accuracy = 0% (0/1) (classification)\n",
      "Accuracy = 0% (0/1) (classification)\n",
      "Accuracy = 0% (0/1) (classification)\n",
      "Accuracy = 100% (1/1) (classification)\n",
      "Accuracy = 0% (0/1) (classification)\n",
      "Accuracy = 100% (1/1) (classification)\n",
      "Accuracy = 100% (1/1) (classification)\n",
      "Accuracy = 0% (0/1) (classification)\n",
      "Accuracy = 100% (1/1) (classification)\n",
      "Accuracy = 0% (0/1) (classification)\n",
      "Accuracy = 100% (1/1) (classification)\n",
      "Accuracy = 0% (0/1) (classification)\n",
      "Accuracy = 0% (0/1) (classification)\n",
      "Accuracy = 0% (0/1) (classification)\n",
      "Accuracy = 100% (1/1) (classification)\n",
      "Accuracy = 0% (0/1) (classification)\n",
      "Accuracy = 0% (0/1) (classification)\n",
      "Accuracy = 100% (1/1) (classification)\n",
      "Accuracy = 0% (0/1) (classification)\n",
      "Accuracy = 0% (0/1) (classification)\n",
      "Accuracy = 0% (0/1) (classification)\n",
      "Accuracy = 100% (1/1) (classification)\n",
      "Accuracy = 100% (1/1) (classification)\n",
      "Accuracy = 100% (1/1) (classification)\n",
      "Accuracy = 100% (1/1) (classification)\n",
      "Accuracy = 0% (0/1) (classification)\n",
      "Accuracy = 0% (0/1) (classification)\n",
      "Accuracy = 0% (0/1) (classification)\n",
      "Accuracy = 0% (0/1) (classification)\n",
      "Accuracy = 0% (0/1) (classification)\n",
      "Accuracy = 0% (0/1) (classification)\n",
      "Accuracy = 0% (0/1) (classification)\n",
      "Accuracy = 0% (0/1) (classification)\n",
      "Accuracy = 0% (0/1) (classification)\n",
      "Accuracy = 0% (0/1) (classification)\n",
      "Accuracy = 0% (0/1) (classification)\n",
      "Accuracy = 0% (0/1) (classification)\n",
      "Accuracy = 0% (0/1) (classification)\n",
      "Accuracy = 0% (0/1) (classification)\n",
      "Accuracy = 0% (0/1) (classification)\n",
      "Accuracy = 0% (0/1) (classification)\n",
      "Accuracy = 0% (0/1) (classification)\n",
      "Accuracy = 0% (0/1) (classification)\n",
      "Accuracy = 0% (0/1) (classification)\n",
      "Accuracy = 0% (0/1) (classification)\n",
      "Accuracy = 0% (0/1) (classification)\n",
      "Accuracy = 0% (0/1) (classification)\n",
      "Accuracy = 0% (0/1) (classification)\n",
      "Accuracy = 0% (0/1) (classification)\n",
      "Accuracy = 0% (0/1) (classification)\n",
      "Accuracy = 0% (0/1) (classification)\n",
      "Accuracy = 0% (0/1) (classification)\n",
      "Accuracy = 0% (0/1) (classification)\n",
      "Accuracy = 0% (0/1) (classification)\n",
      "Accuracy = 0% (0/1) (classification)\n",
      "Accuracy = 0% (0/1) (classification)\n",
      "Accuracy = 0% (0/1) (classification)\n"
     ]
    },
    {
     "data": {
      "text/plain": [
       "[0.84375, 0.8125, 0.90625, 0.4375]"
      ]
     },
     "execution_count": 30,
     "metadata": {},
     "output_type": "execute_result"
    }
   ],
   "source": [
    "list(svm(5,i) for i in range(0,4))# scroll to last line of the output"
   ]
  },
  {
   "cell_type": "markdown",
   "metadata": {},
   "source": [
    "##### kernel = 2, accuracy =0.90625 is the best\n",
    "## Q2 Q3  see attached pdf Q2"
   ]
  },
  {
   "cell_type": "markdown",
   "metadata": {},
   "source": [
    "## Q4 .1"
   ]
  },
  {
   "cell_type": "code",
   "execution_count": 98,
   "metadata": {},
   "outputs": [
    {
     "name": "stdout",
     "output_type": "stream",
     "text": [
      "0.00020914300000185904\n"
     ]
    }
   ],
   "source": [
    "import timeit\n",
    "code_to_test = \"\"\"\n",
    "import numpy as np\n",
    "temp = np.random.rand(1000).astype(np.float64)\n",
    "t=0\n",
    "for i in temp:\n",
    "    t*=i \n",
    "\"\"\"\n",
    "elapsed_time = timeit.timeit(code_to_test, number=100)/100\n",
    "print(elapsed_time)"
   ]
  },
  {
   "cell_type": "code",
   "execution_count": 101,
   "metadata": {},
   "outputs": [
    {
     "name": "stdout",
     "output_type": "stream",
     "text": [
      "0.00018061900000247987\n"
     ]
    }
   ],
   "source": [
    "code_to_test = \"\"\"\n",
    "import numpy as np\n",
    "temp = np.log(np.random.rand(1000)).astype(np.float64)\n",
    "t=0\n",
    "for i in temp:\n",
    "    t+=i \n",
    "\"\"\"\n",
    "elapsed_time = timeit.timeit(code_to_test, number=100)/100\n",
    "print(elapsed_time)"
   ]
  },
  {
   "cell_type": "markdown",
   "metadata": {},
   "source": [
    "#### addition compared to multiplication is computationally cheaper.As above,test2 takes longer time than test2. stackoverflow problem occurs for multiplication, hence higher precision,hence memory and computation cost is required."
   ]
  },
  {
   "cell_type": "markdown",
   "metadata": {},
   "source": [
    "## 2."
   ]
  },
  {
   "cell_type": "code",
   "execution_count": 103,
   "metadata": {},
   "outputs": [],
   "source": [
    "import pandas as pd\n",
    "testf=r\".\\4\\diabetes_train.csv\"\n",
    "testf=pd.read_csv(testf,header=None)"
   ]
  },
  {
   "cell_type": "code",
   "execution_count": 104,
   "metadata": {
    "scrolled": true
   },
   "outputs": [
    {
     "data": {
      "text/html": [
       "<div>\n",
       "<style scoped>\n",
       "    .dataframe tbody tr th:only-of-type {\n",
       "        vertical-align: middle;\n",
       "    }\n",
       "\n",
       "    .dataframe tbody tr th {\n",
       "        vertical-align: top;\n",
       "    }\n",
       "\n",
       "    .dataframe thead th {\n",
       "        text-align: right;\n",
       "    }\n",
       "</style>\n",
       "<table border=\"1\" class=\"dataframe\">\n",
       "  <thead>\n",
       "    <tr style=\"text-align: right;\">\n",
       "      <th></th>\n",
       "      <th>0</th>\n",
       "      <th>1</th>\n",
       "      <th>2</th>\n",
       "      <th>3</th>\n",
       "      <th>4</th>\n",
       "      <th>5</th>\n",
       "      <th>6</th>\n",
       "      <th>7</th>\n",
       "      <th>8</th>\n",
       "      <th>9</th>\n",
       "      <th>...</th>\n",
       "      <th>11</th>\n",
       "      <th>12</th>\n",
       "      <th>13</th>\n",
       "      <th>14</th>\n",
       "      <th>15</th>\n",
       "      <th>16</th>\n",
       "      <th>17</th>\n",
       "      <th>18</th>\n",
       "      <th>19</th>\n",
       "      <th>20</th>\n",
       "    </tr>\n",
       "  </thead>\n",
       "  <tbody>\n",
       "    <tr>\n",
       "      <td>0</td>\n",
       "      <td>-1.0</td>\n",
       "      <td>0.54</td>\n",
       "      <td>0.68</td>\n",
       "      <td>0.65</td>\n",
       "      <td>1.0</td>\n",
       "      <td>0.0</td>\n",
       "      <td>0.0</td>\n",
       "      <td>0.0</td>\n",
       "      <td>1.0</td>\n",
       "      <td>0.0</td>\n",
       "      <td>...</td>\n",
       "      <td>0.0</td>\n",
       "      <td>0.0</td>\n",
       "      <td>0.0</td>\n",
       "      <td>0.0</td>\n",
       "      <td>1.0</td>\n",
       "      <td>0.0</td>\n",
       "      <td>0.0</td>\n",
       "      <td>0.0</td>\n",
       "      <td>1.0</td>\n",
       "      <td>0.0</td>\n",
       "    </tr>\n",
       "    <tr>\n",
       "      <td>1</td>\n",
       "      <td>-1.0</td>\n",
       "      <td>0.74</td>\n",
       "      <td>1.59</td>\n",
       "      <td>1.18</td>\n",
       "      <td>0.0</td>\n",
       "      <td>1.0</td>\n",
       "      <td>0.0</td>\n",
       "      <td>0.0</td>\n",
       "      <td>0.0</td>\n",
       "      <td>0.0</td>\n",
       "      <td>...</td>\n",
       "      <td>0.0</td>\n",
       "      <td>0.0</td>\n",
       "      <td>0.0</td>\n",
       "      <td>0.0</td>\n",
       "      <td>1.0</td>\n",
       "      <td>0.0</td>\n",
       "      <td>0.0</td>\n",
       "      <td>0.0</td>\n",
       "      <td>0.0</td>\n",
       "      <td>1.0</td>\n",
       "    </tr>\n",
       "  </tbody>\n",
       "</table>\n",
       "<p>2 rows × 21 columns</p>\n",
       "</div>"
      ],
      "text/plain": [
       "    0     1     2     3    4    5    6    7    8    9   ...   11   12   13  \\\n",
       "0 -1.0  0.54  0.68  0.65  1.0  0.0  0.0  0.0  1.0  0.0  ...  0.0  0.0  0.0   \n",
       "1 -1.0  0.74  1.59  1.18  0.0  1.0  0.0  0.0  0.0  0.0  ...  0.0  0.0  0.0   \n",
       "\n",
       "    14   15   16   17   18   19   20  \n",
       "0  0.0  1.0  0.0  0.0  0.0  1.0  0.0  \n",
       "1  0.0  1.0  0.0  0.0  0.0  0.0  1.0  \n",
       "\n",
       "[2 rows x 21 columns]"
      ]
     },
     "execution_count": 104,
     "metadata": {},
     "output_type": "execute_result"
    }
   ],
   "source": [
    "testf.head(2) #1 label 20 attributes"
   ]
  },
  {
   "cell_type": "code",
   "execution_count": 131,
   "metadata": {},
   "outputs": [],
   "source": [
    "x, y = testf.drop(columns=0), testf.loc[:, 0][:,np.newaxis]\n",
    "x['bias'] = np.ones((len(x), 1))"
   ]
  },
  {
   "cell_type": "code",
   "execution_count": 137,
   "metadata": {},
   "outputs": [
    {
     "data": {
      "text/plain": [
       "(3000, 1)"
      ]
     },
     "execution_count": 137,
     "metadata": {},
     "output_type": "execute_result"
    }
   ],
   "source": [
    "y.shape"
   ]
  },
  {
   "cell_type": "code",
   "execution_count": 138,
   "metadata": {},
   "outputs": [],
   "source": [
    "def backward(x,y,theta):\n",
    "    gradient=-(y*x)/1+np.exp(y*(x.dot(theta))) \n",
    "    gradient=gradient[:,np.newaxis]\n",
    "    return gradient\n",
    "def loss_func(x,y,theta,iteration):\n",
    "    loss = np.sum(np.log(1+np.exp(np.multiply(-y,(x.values.dot(theta))))))\n",
    "    acc = np.sum(np.sign(x.values.dot(theta)) == y)/ len(y)\n",
    "    #print(\"iter \"+str(iteration)+\" : \\n\"+\"loss: \"+str(loss)+\" accuracy: \"+str(acc))\n",
    "    print(f'iteration {iteration} \\t loss {loss}, \\t accuracy is {acc}')\n",
    "    return loss,acc"
   ]
  },
  {
   "cell_type": "code",
   "execution_count": 139,
   "metadata": {},
   "outputs": [
    {
     "data": {
      "application/vnd.jupyter.widget-view+json": {
       "model_id": "492642d6299a494f8b7b3e17651b3f6d",
       "version_major": 2,
       "version_minor": 0
      },
      "text/plain": [
       "HBox(children=(IntProgress(value=0, max=10000), HTML(value='')))"
      ]
     },
     "metadata": {},
     "output_type": "display_data"
    },
    {
     "name": "stdout",
     "output_type": "stream",
     "text": [
      "iteration 0 \t loss 1884.8405140375553, \t accuracy is 0.6933333333333334\n"
     ]
    },
    {
     "name": "stderr",
     "output_type": "stream",
     "text": [
      "C:\\Users\\gaoyu\\Anaconda3\\lib\\site-packages\\ipykernel_launcher.py:7: RuntimeWarning: invalid value encountered in sign\n",
      "  import sys\n"
     ]
    },
    {
     "name": "stdout",
     "output_type": "stream",
     "text": [
      "iteration 100 \t loss nan, \t accuracy is 0.0\n",
      "iteration 200 \t loss nan, \t accuracy is 0.0\n",
      "iteration 300 \t loss nan, \t accuracy is 0.0\n",
      "iteration 400 \t loss nan, \t accuracy is 0.0\n",
      "iteration 500 \t loss nan, \t accuracy is 0.0\n",
      "iteration 600 \t loss nan, \t accuracy is 0.0\n",
      "iteration 700 \t loss nan, \t accuracy is 0.0\n",
      "iteration 800 \t loss nan, \t accuracy is 0.0\n",
      "iteration 900 \t loss nan, \t accuracy is 0.0\n",
      "iteration 1000 \t loss nan, \t accuracy is 0.0\n",
      "iteration 1100 \t loss nan, \t accuracy is 0.0\n",
      "iteration 1200 \t loss nan, \t accuracy is 0.0\n",
      "iteration 1300 \t loss nan, \t accuracy is 0.0\n",
      "iteration 1400 \t loss nan, \t accuracy is 0.0\n",
      "iteration 1500 \t loss nan, \t accuracy is 0.0\n",
      "iteration 1600 \t loss nan, \t accuracy is 0.0\n",
      "iteration 1700 \t loss nan, \t accuracy is 0.0\n",
      "iteration 1800 \t loss nan, \t accuracy is 0.0\n",
      "iteration 1900 \t loss nan, \t accuracy is 0.0\n",
      "iteration 2000 \t loss nan, \t accuracy is 0.0\n",
      "iteration 2100 \t loss nan, \t accuracy is 0.0\n",
      "iteration 2200 \t loss nan, \t accuracy is 0.0\n",
      "iteration 2300 \t loss nan, \t accuracy is 0.0\n",
      "iteration 2400 \t loss nan, \t accuracy is 0.0\n",
      "iteration 2500 \t loss nan, \t accuracy is 0.0\n",
      "iteration 2600 \t loss nan, \t accuracy is 0.0\n",
      "iteration 2700 \t loss nan, \t accuracy is 0.0\n",
      "iteration 2800 \t loss nan, \t accuracy is 0.0\n",
      "iteration 2900 \t loss nan, \t accuracy is 0.0\n",
      "iteration 3000 \t loss nan, \t accuracy is 0.0\n",
      "iteration 3100 \t loss nan, \t accuracy is 0.0\n",
      "iteration 3200 \t loss nan, \t accuracy is 0.0\n",
      "iteration 3300 \t loss nan, \t accuracy is 0.0\n",
      "iteration 3400 \t loss nan, \t accuracy is 0.0\n",
      "iteration 3500 \t loss nan, \t accuracy is 0.0\n",
      "iteration 3600 \t loss nan, \t accuracy is 0.0\n",
      "iteration 3700 \t loss nan, \t accuracy is 0.0\n",
      "iteration 3800 \t loss nan, \t accuracy is 0.0\n",
      "iteration 3900 \t loss nan, \t accuracy is 0.0\n",
      "iteration 4000 \t loss nan, \t accuracy is 0.0\n",
      "iteration 4100 \t loss nan, \t accuracy is 0.0\n",
      "iteration 4200 \t loss nan, \t accuracy is 0.0\n",
      "iteration 4300 \t loss nan, \t accuracy is 0.0\n",
      "iteration 4400 \t loss nan, \t accuracy is 0.0\n",
      "iteration 4500 \t loss nan, \t accuracy is 0.0\n",
      "iteration 4600 \t loss nan, \t accuracy is 0.0\n",
      "iteration 4700 \t loss nan, \t accuracy is 0.0\n",
      "iteration 4800 \t loss nan, \t accuracy is 0.0\n",
      "iteration 4900 \t loss nan, \t accuracy is 0.0\n",
      "iteration 5000 \t loss nan, \t accuracy is 0.0\n",
      "iteration 5100 \t loss nan, \t accuracy is 0.0\n",
      "iteration 5200 \t loss nan, \t accuracy is 0.0\n",
      "iteration 5300 \t loss nan, \t accuracy is 0.0\n",
      "iteration 5400 \t loss nan, \t accuracy is 0.0\n",
      "iteration 5500 \t loss nan, \t accuracy is 0.0\n",
      "iteration 5600 \t loss nan, \t accuracy is 0.0\n",
      "iteration 5700 \t loss nan, \t accuracy is 0.0\n",
      "iteration 5800 \t loss nan, \t accuracy is 0.0\n",
      "iteration 5900 \t loss nan, \t accuracy is 0.0\n",
      "iteration 6000 \t loss nan, \t accuracy is 0.0\n",
      "iteration 6100 \t loss nan, \t accuracy is 0.0\n",
      "iteration 6200 \t loss nan, \t accuracy is 0.0\n",
      "iteration 6300 \t loss nan, \t accuracy is 0.0\n",
      "iteration 6400 \t loss nan, \t accuracy is 0.0\n",
      "iteration 6500 \t loss nan, \t accuracy is 0.0\n",
      "iteration 6600 \t loss nan, \t accuracy is 0.0\n",
      "iteration 6700 \t loss nan, \t accuracy is 0.0\n",
      "iteration 6800 \t loss nan, \t accuracy is 0.0\n",
      "iteration 6900 \t loss nan, \t accuracy is 0.0\n",
      "iteration 7000 \t loss nan, \t accuracy is 0.0\n",
      "iteration 7100 \t loss nan, \t accuracy is 0.0\n",
      "iteration 7200 \t loss nan, \t accuracy is 0.0\n",
      "iteration 7300 \t loss nan, \t accuracy is 0.0\n",
      "iteration 7400 \t loss nan, \t accuracy is 0.0\n",
      "iteration 7500 \t loss nan, \t accuracy is 0.0\n",
      "iteration 7600 \t loss nan, \t accuracy is 0.0\n",
      "iteration 7700 \t loss nan, \t accuracy is 0.0\n",
      "iteration 7800 \t loss nan, \t accuracy is 0.0\n",
      "iteration 7900 \t loss nan, \t accuracy is 0.0\n",
      "iteration 8000 \t loss nan, \t accuracy is 0.0\n",
      "iteration 8100 \t loss nan, \t accuracy is 0.0\n",
      "iteration 8200 \t loss nan, \t accuracy is 0.0\n",
      "iteration 8300 \t loss nan, \t accuracy is 0.0\n",
      "iteration 8400 \t loss nan, \t accuracy is 0.0\n",
      "iteration 8500 \t loss nan, \t accuracy is 0.0\n",
      "iteration 8600 \t loss nan, \t accuracy is 0.0\n",
      "iteration 8700 \t loss nan, \t accuracy is 0.0\n",
      "iteration 8800 \t loss nan, \t accuracy is 0.0\n",
      "iteration 8900 \t loss nan, \t accuracy is 0.0\n",
      "iteration 9000 \t loss nan, \t accuracy is 0.0\n",
      "iteration 9100 \t loss nan, \t accuracy is 0.0\n",
      "iteration 9200 \t loss nan, \t accuracy is 0.0\n",
      "iteration 9300 \t loss nan, \t accuracy is 0.0\n",
      "iteration 9400 \t loss nan, \t accuracy is 0.0\n",
      "iteration 9500 \t loss nan, \t accuracy is 0.0\n",
      "iteration 9600 \t loss nan, \t accuracy is 0.0\n",
      "iteration 9700 \t loss nan, \t accuracy is 0.0\n",
      "iteration 9800 \t loss nan, \t accuracy is 0.0\n",
      "iteration 9900 \t loss nan, \t accuracy is 0.0\n",
      "\n"
     ]
    }
   ],
   "source": [
    "import sys\n",
    "from tqdm import tqdm_notebook, tqdm\n",
    "losses = []\n",
    "accs = []\n",
    "lr = 0.1\n",
    "theta = np.random.normal(0, 1, (x.shape[1], 1) )\n",
    "iterations = 10000\n",
    "idxs = np.random.choice(len(x), size=iterations)\n",
    "weights = {}\n",
    "\n",
    "for iteration, i in enumerate(tqdm_notebook(idxs, file=sys.stdout)):\n",
    "    xi, yi = x.loc[i,:], y[i]\n",
    "    gradient = backward(xi, yi, theta)\n",
    "    theta -= lr * gradient\n",
    "    if iteration % 100 == 0:\n",
    "        loss, acc = loss_func(x, y, theta,iteration)\n",
    "        weights[iteration] = theta\n",
    "        losses.append(loss)\n",
    "        accs.append(acc)"
   ]
  },
  {
   "cell_type": "code",
   "execution_count": null,
   "metadata": {},
   "outputs": [],
   "source": []
  }
 ],
 "metadata": {
  "kernelspec": {
   "display_name": "Python 3",
   "language": "python",
   "name": "python3"
  },
  "language_info": {
   "codemirror_mode": {
    "name": "ipython",
    "version": 3
   },
   "file_extension": ".py",
   "mimetype": "text/x-python",
   "name": "python",
   "nbconvert_exporter": "python",
   "pygments_lexer": "ipython3",
   "version": "3.7.4"
  }
 },
 "nbformat": 4,
 "nbformat_minor": 2
}
